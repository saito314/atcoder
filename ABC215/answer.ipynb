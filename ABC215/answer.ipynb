{
 "cells": [
  {
   "cell_type": "code",
   "execution_count": 5,
   "metadata": {},
   "outputs": [
    {
     "data": {
      "application/vnd.jupyter.widget-view+json": {
       "model_id": "20155c6cb32e4c34bcd5fed0f426ec94",
       "version_major": 2,
       "version_minor": 0
      },
      "text/plain": [
       "Textarea(value='')"
      ]
     },
     "metadata": {},
     "output_type": "display_data"
    }
   ],
   "source": [
    "from ipywidgets import Textarea\n",
    "\n",
    "def get_input(change):\n",
    "    global Input\n",
    "    Input = change[\"new\"]\n",
    "\n",
    "textarea = Textarea()\n",
    "textarea.observe(get_input, names=\"value\")\n",
    "display(textarea)"
   ]
  },
  {
   "cell_type": "code",
   "execution_count": 3,
   "metadata": {},
   "outputs": [
    {
     "ename": "NameError",
     "evalue": "name 'Input' is not defined",
     "output_type": "error",
     "traceback": [
      "\u001b[1;31m---------------------------------------------------------------------------\u001b[0m",
      "\u001b[1;31mNameError\u001b[0m                                 Traceback (most recent call last)",
      "Cell \u001b[1;32mIn[3], line 2\u001b[0m\n\u001b[0;32m      1\u001b[0m \u001b[39m\"\"\" 上のテキストボックスにテストケースを入力したら実行 \"\"\"\u001b[39;00m\n\u001b[1;32m----> 2\u001b[0m IN \u001b[39m=\u001b[39m \u001b[39miter\u001b[39m(Input\u001b[39m.\u001b[39msplit(\u001b[39m\"\u001b[39m\u001b[39m\\n\u001b[39;00m\u001b[39m\"\u001b[39m))\u001b[39m.\u001b[39m\u001b[39m__next__\u001b[39m\n\u001b[0;32m      3\u001b[0m \u001b[39mdef\u001b[39;00m \u001b[39minput\u001b[39m():\n\u001b[0;32m      4\u001b[0m     \u001b[39mreturn\u001b[39;00m IN()\n",
      "\u001b[1;31mNameError\u001b[0m: name 'Input' is not defined"
     ]
    }
   ],
   "source": [
    "\"\"\" A問題 \"\"\"\n",
    "a = input()\n",
    "\n",
    "if a == \"Hello,World!\":\n",
    "    print(\"AC\")\n",
    "else:\n",
    "    print(\"WA\")"
   ]
  },
  {
   "cell_type": "code",
   "execution_count": 10,
   "metadata": {},
   "outputs": [
    {
     "name": "stdout",
     "output_type": "stream",
     "text": [
      "59\n"
     ]
    }
   ],
   "source": [
    "\"\"\" B問題 \"\"\"\n",
    "a = int(input())\n",
    "\n",
    "# 2進数文字列の最初の2文字は不要\n",
    "a = bin(a)[2:]\n",
    "\n",
    "print(len(a) - 1)"
   ]
  },
  {
   "cell_type": "code",
   "execution_count": 34,
   "metadata": {},
   "outputs": [
    {
     "name": "stdout",
     "output_type": "stream",
     "text": [
      "bbaa\n",
      "[('b', 'b', 'a', 'a'), ('b', 'a', 'a', 'b'), ('b', 'a', 'b', 'a'), ('a', 'b', 'a', 'b'), ('a', 'b', 'b', 'a'), ('a', 'a', 'b', 'b')]\n"
     ]
    }
   ],
   "source": [
    "\"\"\" C問題 \"\"\"\n",
    "import itertools\n",
    "\n",
    "s, n = map(str, input().split())\n",
    "s = \"\".join(sorted(s, reverse=True))\n",
    "print(s)\n",
    "\n",
    "a = itertools.permutations(s, len(s))\n",
    "\n",
    "a = list(set(a))\n",
    "print(a)\n",
    "#print(\"\".join(a[int(n) - 1]))\n"
   ]
  },
  {
   "cell_type": "code",
   "execution_count": null,
   "metadata": {},
   "outputs": [],
   "source": [
    "\"\"\" 上のテキストボックスにテストケースを入力したら実行 \"\"\"\n",
    "IN = iter(Input.split(\"\\n\")).__next__\n",
    "def input():\n",
    "    return IN()\n",
    "\n",
    "\"\"\" D問題 \"\"\"\n"
   ]
  },
  {
   "cell_type": "code",
   "execution_count": null,
   "metadata": {},
   "outputs": [],
   "source": [
    "\"\"\" 上のテキストボックスにテストケースを入力したら実行 \"\"\"\n",
    "IN = iter(Input.split(\"\\n\")).__next__\n",
    "def input():\n",
    "    return IN()\n",
    "\n",
    "\"\"\" E問題 \"\"\"\n"
   ]
  },
  {
   "cell_type": "code",
   "execution_count": null,
   "metadata": {},
   "outputs": [],
   "source": [
    "\"\"\" 上のテキストボックスにテストケースを入力したら実行 \"\"\"\n",
    "IN = iter(Input.split(\"\\n\")).__next__\n",
    "def input():\n",
    "    return IN()\n",
    "\n",
    "\"\"\" F問題 \"\"\""
   ]
  },
  {
   "cell_type": "code",
   "execution_count": null,
   "metadata": {},
   "outputs": [],
   "source": [
    "\"\"\" 上のテキストボックスにテストケースを入力したら実行 \"\"\"\n",
    "IN = iter(Input.split(\"\\n\")).__next__\n",
    "def input():\n",
    "    return IN()\n",
    "\n",
    "\"\"\" G問題 \"\"\""
   ]
  },
  {
   "cell_type": "code",
   "execution_count": null,
   "metadata": {},
   "outputs": [],
   "source": [
    "\"\"\" 上のテキストボックスにテストケースを入力したら実行 \"\"\"\n",
    "IN = iter(Input.split(\"\\n\")).__next__\n",
    "def input():\n",
    "    return IN()\n",
    "\n",
    "\"\"\" H問題 \"\"\""
   ]
  }
 ],
 "metadata": {
  "kernelspec": {
   "display_name": "Python 3.11.9 ('atcoder')",
   "language": "python",
   "name": "python3"
  },
  "language_info": {
   "codemirror_mode": {
    "name": "ipython",
    "version": 3
   },
   "file_extension": ".py",
   "mimetype": "text/x-python",
   "name": "python",
   "nbconvert_exporter": "python",
   "pygments_lexer": "ipython3",
   "version": "3.11.9"
  },
  "orig_nbformat": 4,
  "vscode": {
   "interpreter": {
    "hash": "6e112741c0a5017dd4c9cd0e7b80286693b4bc9f47f7eb08805666c8df78a746"
   }
  }
 },
 "nbformat": 4,
 "nbformat_minor": 2
}
