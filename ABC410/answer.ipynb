{
 "cells": [
  {
   "cell_type": "code",
   "execution_count": 5,
   "metadata": {},
   "outputs": [
    {
     "name": "stdout",
     "output_type": "stream",
     "text": [
      "8\n"
     ]
    }
   ],
   "source": [
    "\"\"\" A問題 \"\"\"\n",
    "N = int(input())\n",
    "A = list(map(int, input().split()))\n",
    "K = int(input())\n",
    "\n",
    "cnt = 0\n",
    "for a in A:\n",
    "    if K <= a:\n",
    "        cnt += 1\n",
    "\n",
    "print(cnt)"
   ]
  },
  {
   "cell_type": "code",
   "execution_count": 53,
   "metadata": {},
   "outputs": [
    {
     "name": "stdout",
     "output_type": "stream",
     "text": [
      "2 1 3 4 1\n"
     ]
    }
   ],
   "source": [
    "\"\"\" B問題 \"\"\"\n",
    "N, Q = map(int, input().split())\n",
    "X = list(map(int, input().split()))\n",
    "\n",
    "list_min = 0\n",
    "x_list = [0] * N\n",
    "ans_list = []\n",
    "for x_index, x in enumerate(X):\n",
    "    if x != 0:\n",
    "        ans_list.append(x)\n",
    "        x_list[x-1] += 1\n",
    "    else:\n",
    "        # xが0の場合はボールの数が最小の箱にボールを入れる\n",
    "        list_min = min(x_list)\n",
    "        for index, x_item in enumerate(x_list):\n",
    "            if x_item < list_min+1:\n",
    "                ans_list.append(index + 1)\n",
    "                x_list[index] += 1\n",
    "                break\n",
    "\n",
    "print(\" \".join(map(str, ans_list)))"
   ]
  },
  {
   "cell_type": "code",
   "execution_count": null,
   "metadata": {},
   "outputs": [],
   "source": [
    "\"\"\" C問題 \"\"\"\n",
    "N, Q = map(int, input().split())\n",
    "A = list(range(1, N+1))\n",
    "for _ in range(Q):\n",
    "    q = list(map(int, input().split()))\n",
    "    if q[0] == 1:\n",
    "        # Aのq[1]番目の要素をq[2]に変更する\n",
    "        A[q[1] - 1] = q[2]\n",
    "\n",
    "    elif q[0] == 2:\n",
    "        # AからR番目の要素を出力する\n",
    "        print(A[q[1] - 1])\n",
    "\n",
    "    elif q[0] == 3:\n",
    "        # 「Aの先頭の要素を末尾にする」をq[1]回繰り返す\n",
    "        n = q[1] % N\n",
    "        A = A[n:] + A[:n]"
   ]
  },
  {
   "cell_type": "code",
   "execution_count": null,
   "metadata": {},
   "outputs": [],
   "source": [
    "\"\"\" D問題 \"\"\"\n"
   ]
  },
  {
   "cell_type": "code",
   "execution_count": null,
   "metadata": {},
   "outputs": [],
   "source": [
    "\"\"\" E問題 \"\"\"\n"
   ]
  },
  {
   "cell_type": "code",
   "execution_count": null,
   "metadata": {},
   "outputs": [],
   "source": [
    "\"\"\" F問題 \"\"\"\n"
   ]
  },
  {
   "cell_type": "code",
   "execution_count": null,
   "metadata": {},
   "outputs": [],
   "source": [
    "\"\"\" G問題 \"\"\"\n"
   ]
  },
  {
   "cell_type": "code",
   "execution_count": null,
   "metadata": {},
   "outputs": [],
   "source": [
    "\"\"\" H問題 \"\"\"\n"
   ]
  }
 ],
 "metadata": {
  "kernelspec": {
   "display_name": "Python 3",
   "language": "python",
   "name": "python3"
  },
  "language_info": {
   "codemirror_mode": {
    "name": "ipython",
    "version": 3
   },
   "file_extension": ".py",
   "mimetype": "text/x-python",
   "name": "python",
   "nbconvert_exporter": "python",
   "pygments_lexer": "ipython3",
   "version": "3.10.17"
  },
  "orig_nbformat": 4
 },
 "nbformat": 4,
 "nbformat_minor": 2
}
