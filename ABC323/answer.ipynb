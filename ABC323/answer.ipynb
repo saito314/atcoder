{
 "cells": [
  {
   "cell_type": "code",
   "execution_count": 1,
   "metadata": {},
   "outputs": [
    {
     "data": {
      "application/vnd.jupyter.widget-view+json": {
       "model_id": "84171888abf841658860ca4683d06692",
       "version_major": 2,
       "version_minor": 0
      },
      "text/plain": [
       "Textarea(value='')"
      ]
     },
     "metadata": {},
     "output_type": "display_data"
    }
   ],
   "source": [
    "from ipywidgets import Textarea\n",
    "\n",
    "def get_input(change):\n",
    "    global Input\n",
    "    Input = change[\"new\"]\n",
    "\n",
    "textarea = Textarea()\n",
    "textarea.observe(get_input, names=\"value\")\n",
    "display(textarea)"
   ]
  },
  {
   "cell_type": "code",
   "execution_count": null,
   "metadata": {},
   "outputs": [],
   "source": [
    "# C問題テストケース作成\n",
    "for i in range(100):\n",
    "    s = []\n",
    "    for j in range(100):\n",
    "        if j < i:\n",
    "            s.append(\"o\")\n",
    "        else:\n",
    "            s.append(\"x\")\n",
    "    else:\n",
    "        print(\"\".join(s))"
   ]
  },
  {
   "cell_type": "code",
   "execution_count": 5,
   "metadata": {},
   "outputs": [],
   "source": [
    "IN = iter(Input.split(\"\\n\")).__next__\n",
    "def input():\n",
    "    return IN()"
   ]
  },
  {
   "cell_type": "code",
   "execution_count": 5,
   "metadata": {},
   "outputs": [
    {
     "name": "stdout",
     "output_type": "stream",
     "text": [
      "No\n"
     ]
    }
   ],
   "source": [
    "\"\"\" A問題 \"\"\"\n",
    "s = input()\n",
    "\n",
    "for i in range(1, len(s), 2):\n",
    "    if s[i] == \"1\":\n",
    "        print(\"No\")\n",
    "        break\n",
    "else:\n",
    "    print(\"Yes\")"
   ]
  },
  {
   "cell_type": "code",
   "execution_count": null,
   "metadata": {},
   "outputs": [],
   "source": [
    "\"\"\" B問題 \"\"\"\n",
    "n = int(input())\n",
    "plist = []\n",
    "plist_append = plist.append\n",
    "for i in range(n):\n",
    "    plist_append(input())\n",
    "\n",
    "pdict = {}\n",
    "for index, i in enumerate(plist):\n",
    "    pdict[index+1] = i.count(\"x\") + i.count(\"-\")\n",
    "\n",
    "# TODO:\n",
    "sorted_pdict = sorted(pdict.items(), key=lambda x: (x[1], x[0]))\n",
    "print(\" \".join([str(i) for i, j in sorted_pdict]))"
   ]
  },
  {
   "cell_type": "code",
   "execution_count": 27,
   "metadata": {},
   "outputs": [
    {
     "name": "stdout",
     "output_type": "stream",
     "text": [
      "100\n",
      "99\n",
      "98\n",
      "97\n",
      "96\n",
      "95\n",
      "94\n",
      "93\n",
      "92\n",
      "91\n",
      "90\n",
      "89\n",
      "88\n",
      "87\n",
      "86\n",
      "85\n",
      "84\n",
      "83\n",
      "82\n",
      "81\n",
      "80\n",
      "79\n",
      "78\n",
      "77\n",
      "76\n",
      "75\n",
      "74\n",
      "73\n",
      "72\n",
      "71\n",
      "70\n",
      "69\n",
      "68\n",
      "67\n",
      "66\n",
      "65\n",
      "64\n",
      "63\n",
      "62\n",
      "61\n",
      "60\n",
      "59\n",
      "58\n",
      "57\n",
      "56\n",
      "55\n",
      "54\n",
      "53\n",
      "52\n",
      "51\n",
      "50\n",
      "49\n",
      "48\n",
      "47\n",
      "46\n",
      "45\n",
      "44\n",
      "43\n",
      "42\n",
      "41\n",
      "40\n",
      "39\n",
      "38\n",
      "37\n",
      "36\n",
      "35\n",
      "34\n",
      "33\n",
      "32\n",
      "31\n",
      "30\n",
      "29\n",
      "28\n",
      "27\n",
      "26\n",
      "25\n",
      "24\n",
      "23\n",
      "22\n",
      "21\n",
      "20\n",
      "19\n",
      "18\n",
      "17\n",
      "16\n",
      "15\n",
      "14\n",
      "13\n",
      "12\n",
      "11\n",
      "10\n",
      "9\n",
      "8\n",
      "7\n",
      "6\n",
      "5\n",
      "4\n",
      "3\n",
      "2\n",
      "0\n"
     ]
    }
   ],
   "source": [
    "\"\"\" C問題 \"\"\"\n",
    "from pprint import pprint\n",
    "\n",
    "IN = iter(Input.split(\"\\n\")).__next__\n",
    "def input():\n",
    "    return IN()\n",
    "\n",
    "n, m = map(int, input().split())\n",
    "a = list(map(int, input().split()))\n",
    "s = []\n",
    "s_ap = s.append\n",
    "\n",
    "for i in range(n):\n",
    "    tmp = input()\n",
    "    s_ap([1 if x == \"o\" else 0 for x in tmp])\n",
    "\n",
    "state = [[] for i in range(n)]\n",
    "for i in range(n):\n",
    "    state[i].append(sum([x * y for x, y in zip(s[i], a)]) + (i+1))\n",
    "    state[i].append(sorted([y for x, y in zip(s[i], a) if x == 0], reverse=True))\n",
    "\n",
    "point_max = max([x[0] for x in state])\n",
    "res = []\n",
    "res_ap = res.append\n",
    "\n",
    "for i in state:\n",
    "    if i[0] == point_max:\n",
    "        print(0)\n",
    "    else:\n",
    "        tmp_diff = point_max - i[0]\n",
    "        cnt = 0\n",
    "        # for文で処理すると全問解かなければいけない場合に中のprintが機能しなかった\n",
    "        for j in i[1]:\n",
    "            if tmp_diff >= 0:\n",
    "                cnt += 1\n",
    "                tmp_diff -= j\n",
    "            else:    \n",
    "                print(cnt)\n",
    "                break\n",
    "        else:\n",
    "            print(cnt)"
   ]
  },
  {
   "cell_type": "code",
   "execution_count": null,
   "metadata": {},
   "outputs": [],
   "source": [
    "\"\"\" D問題 \"\"\""
   ]
  },
  {
   "cell_type": "code",
   "execution_count": null,
   "metadata": {},
   "outputs": [],
   "source": [
    "\"\"\" E問題 \"\"\""
   ]
  },
  {
   "cell_type": "code",
   "execution_count": null,
   "metadata": {},
   "outputs": [],
   "source": [
    "\"\"\" F問題 \"\"\""
   ]
  },
  {
   "cell_type": "code",
   "execution_count": null,
   "metadata": {},
   "outputs": [],
   "source": [
    "\"\"\" G問題 \"\"\""
   ]
  },
  {
   "cell_type": "code",
   "execution_count": null,
   "metadata": {},
   "outputs": [],
   "source": [
    "\"\"\" H問題 \"\"\""
   ]
  }
 ],
 "metadata": {
  "kernelspec": {
   "display_name": "Python 3.9.12 ('base')",
   "language": "python",
   "name": "python3"
  },
  "language_info": {
   "codemirror_mode": {
    "name": "ipython",
    "version": 3
   },
   "file_extension": ".py",
   "mimetype": "text/x-python",
   "name": "python",
   "nbconvert_exporter": "python",
   "pygments_lexer": "ipython3",
   "version": "3.9.12"
  },
  "orig_nbformat": 4,
  "vscode": {
   "interpreter": {
    "hash": "c0471cdc6231a5210899e9481bea1aeaeb4a664db964fd9b20d11630d4529a39"
   }
  }
 },
 "nbformat": 4,
 "nbformat_minor": 2
}
