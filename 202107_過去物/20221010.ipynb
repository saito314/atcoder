{
 "cells": [
  {
   "cell_type": "code",
   "execution_count": 1,
   "metadata": {},
   "outputs": [
    {
     "name": "stdout",
     "output_type": "stream",
     "text": [
      "hogehoge\n"
     ]
    }
   ],
   "source": [
    "print(\"hogehoge\")"
   ]
  },
  {
   "cell_type": "code",
   "execution_count": 3,
   "metadata": {},
   "outputs": [
    {
     "name": "stdout",
     "output_type": "stream",
     "text": [
      "# packages in environment at C:\\Users\\KeitoSaito\\anaconda3\\envs\\Python-env:\n",
      "#\n",
      "# Name                    Version                   Build  Channel\n",
      "asttokens                 2.0.8              pyhd8ed1ab_0    conda-forge\n",
      "backcall                  0.2.0              pyh9f0ad1d_0    conda-forge\n",
      "backports                 1.0                        py_2    conda-forge\n",
      "backports.functools_lru_cache 1.6.4              pyhd8ed1ab_0    conda-forge\n",
      "ca-certificates           2022.9.24            h5b45459_0    conda-forge\n",
      "certifi                   2022.9.24          pyhd8ed1ab_0    conda-forge\n",
      "colorama                  0.4.5              pyhd8ed1ab_0    conda-forge\n",
      "debugpy                   1.6.3            py39h415ef7b_0    conda-forge\n",
      "decorator                 5.1.1              pyhd8ed1ab_0    conda-forge\n",
      "entrypoints               0.4                pyhd8ed1ab_0    conda-forge\n",
      "executing                 1.1.1              pyhd8ed1ab_0    conda-forge\n",
      "ipykernel                 6.16.0             pyh025b116_0    conda-forge\n",
      "ipython                   8.5.0              pyh08f2357_1    conda-forge\n",
      "jedi                      0.18.1             pyhd8ed1ab_2    conda-forge\n",
      "jupyter_client            7.3.5              pyhd8ed1ab_0    conda-forge\n",
      "jupyter_core              4.11.1           py39hcbf5309_0    conda-forge\n",
      "libsodium                 1.0.18               h8d14728_1    conda-forge\n",
      "matplotlib-inline         0.1.6              pyhd8ed1ab_0    conda-forge\n",
      "nest-asyncio              1.5.6              pyhd8ed1ab_0    conda-forge\n",
      "openssl                   1.1.1q               h8ffe710_0    conda-forge\n",
      "packaging                 21.3               pyhd8ed1ab_0    conda-forge\n",
      "parso                     0.8.3              pyhd8ed1ab_0    conda-forge\n",
      "pickleshare               0.7.5                   py_1003    conda-forge\n",
      "pip                       22.2.2           py39haa95532_0  \n",
      "prompt-toolkit            3.0.31             pyha770c72_0    conda-forge\n",
      "psutil                    5.9.0            py39h2bbff1b_0  \n",
      "pure_eval                 0.2.2              pyhd8ed1ab_0    conda-forge\n",
      "pygments                  2.13.0             pyhd8ed1ab_0    conda-forge\n",
      "pyparsing                 3.0.9              pyhd8ed1ab_0    conda-forge\n",
      "python                    3.9.13               h6244533_1  \n",
      "python-dateutil           2.8.2              pyhd8ed1ab_0    conda-forge\n",
      "python_abi                3.9                      2_cp39    conda-forge\n",
      "pywin32                   303              py39hb82d6ee_0    conda-forge\n",
      "pyzmq                     23.2.0           py39hd77b12b_0  \n",
      "setuptools                63.4.1           py39haa95532_0  \n",
      "six                       1.16.0             pyh6c4a22f_0    conda-forge\n",
      "sqlite                    3.39.3               h2bbff1b_0  \n",
      "stack_data                0.5.1              pyhd8ed1ab_0    conda-forge\n",
      "tornado                   6.2              py39hb82d6ee_0    conda-forge\n",
      "traitlets                 5.4.0              pyhd8ed1ab_0    conda-forge\n",
      "tzdata                    2022c                h04d1e81_0  \n",
      "vc                        14.2                 h21ff451_1  \n",
      "vs2015_runtime            14.27.29016          h5e58377_2  \n",
      "wcwidth                   0.2.5              pyh9f0ad1d_2    conda-forge\n",
      "wheel                     0.37.1             pyhd3eb1b0_0  \n",
      "wincertstore              0.2              py39haa95532_2  \n",
      "zeromq                    4.3.4                h0e60522_1    conda-forge\n"
     ]
    }
   ],
   "source": []
  }
 ],
 "metadata": {
  "kernelspec": {
   "display_name": "Python 3.9.13 ('Python-env')",
   "language": "python",
   "name": "python3"
  },
  "language_info": {
   "codemirror_mode": {
    "name": "ipython",
    "version": 3
   },
   "file_extension": ".py",
   "mimetype": "text/x-python",
   "name": "python",
   "nbconvert_exporter": "python",
   "pygments_lexer": "ipython3",
   "version": "3.9.13"
  },
  "orig_nbformat": 4,
  "vscode": {
   "interpreter": {
    "hash": "19d1ee2d29bc4752d8434b62e49a078eed35b6c77b024a38674843dd9e1ebd6f"
   }
  }
 },
 "nbformat": 4,
 "nbformat_minor": 2
}
