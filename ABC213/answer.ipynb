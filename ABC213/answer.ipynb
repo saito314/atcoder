{
 "cells": [
  {
   "cell_type": "code",
   "execution_count": 4,
   "metadata": {},
   "outputs": [
    {
     "name": "stdout",
     "output_type": "stream",
     "text": [
      "0b1010\n",
      "0b101\n"
     ]
    },
    {
     "data": {
      "text/plain": [
       "15"
      ]
     },
     "execution_count": 4,
     "metadata": {},
     "output_type": "execute_result"
    }
   ],
   "source": [
    "print(bin(10))\n",
    "print(bin(5))\n",
    "10 ^ 5"
   ]
  },
  {
   "cell_type": "code",
   "execution_count": 8,
   "metadata": {},
   "outputs": [
    {
     "name": "stdout",
     "output_type": "stream",
     "text": [
      "6\n"
     ]
    }
   ],
   "source": [
    "\"\"\" A問題 xorのビット演算\"\"\"\n",
    "a, b = list(map(int, input().split()))\n",
    "print(a ^ b)"
   ]
  },
  {
   "cell_type": "code",
   "execution_count": 14,
   "metadata": {},
   "outputs": [
    {
     "name": "stdout",
     "output_type": "stream",
     "text": [
      "3\n"
     ]
    }
   ],
   "source": [
    "\"\"\" B問題 \"\"\"\n",
    "n = int(input())\n",
    "list_point = list(map(int, input().split()))\n",
    "sorted_list_point = sorted(list_point, reverse=False)\n",
    "print(list_point.index(sorted_list_point[-2]) + 1)"
   ]
  },
  {
   "cell_type": "code",
   "execution_count": 3,
   "metadata": {},
   "outputs": [
    {
     "ename": "ValueError",
     "evalue": "not enough values to unpack (expected 3, got 0)",
     "output_type": "error",
     "traceback": [
      "\u001b[1;31m---------------------------------------------------------------------------\u001b[0m",
      "\u001b[1;31mValueError\u001b[0m                                Traceback (most recent call last)",
      "\u001b[1;32mセル4 を c:\\Users\\KeitoSaito\\Desktop\\atCoder\\ABC213\\answer.ipynb\u001b[0m in \u001b[0;36m<cell line: 2>\u001b[1;34m()\u001b[0m\n\u001b[0;32m      <a href='vscode-notebook-cell:/c%3A/Users/KeitoSaito/Desktop/atCoder/ABC213/answer.ipynb#W3sZmlsZQ%3D%3D?line=0'>1</a>\u001b[0m \u001b[39m\"\"\" C問題 \"\"\"\u001b[39;00m\n\u001b[1;32m----> <a href='vscode-notebook-cell:/c%3A/Users/KeitoSaito/Desktop/atCoder/ABC213/answer.ipynb#W3sZmlsZQ%3D%3D?line=1'>2</a>\u001b[0m h, w, n \u001b[39m=\u001b[39m \u001b[39mmap\u001b[39m(\u001b[39mint\u001b[39m, \u001b[39minput\u001b[39m()\u001b[39m.\u001b[39msplit())\n\u001b[0;32m      <a href='vscode-notebook-cell:/c%3A/Users/KeitoSaito/Desktop/atCoder/ABC213/answer.ipynb#W3sZmlsZQ%3D%3D?line=2'>3</a>\u001b[0m card_info \u001b[39m=\u001b[39m []\n\u001b[0;32m      <a href='vscode-notebook-cell:/c%3A/Users/KeitoSaito/Desktop/atCoder/ABC213/answer.ipynb#W3sZmlsZQ%3D%3D?line=3'>4</a>\u001b[0m card_info_append \u001b[39m=\u001b[39m card_info\u001b[39m.\u001b[39mappend\n",
      "\u001b[1;31mValueError\u001b[0m: not enough values to unpack (expected 3, got 0)"
     ]
    }
   ],
   "source": [
    "\"\"\" C問題 \"\"\"\n",
    "h, w, n = map(int, input().split())\n",
    "card_info = []\n",
    "card_info_append = card_info.append\n",
    "while True:\n",
    "    try:\n",
    "        card_info_append(list(map(int, input().split())))\n",
    "    except:\n",
    "        break\n",
    "\n",
    "x_info = []\n",
    "y_info = []\n",
    "for x, y in card_info:\n",
    "  x_info.append(x)\n",
    "  y_info.append(y)\n",
    "\n",
    "Xdict = {a: index+1 for index, a in enumerate(sorted(list(set(x_info))))}\n",
    "Ydict = {a: index+1 for index, a in enumerate(sorted(list(set(y_info))))}\n",
    "\n",
    "for a, b in card_info:\n",
    "  print(f\"{Xdict[a]} {Ydict[b]}\")\n"
   ]
  },
  {
   "cell_type": "code",
   "execution_count": 13,
   "metadata": {},
   "outputs": [
    {
     "name": "stdout",
     "output_type": "stream",
     "text": [
      "['Scala is a general purpose programming language designed to express common programming patterns in a concise, elegant, and type-safe way. It smoothly integrates features of object-oriented and functional languages, enabling Java and other programmers to be more productive. Code sizes are typically reduced by a factor of two to three when compared to an equivalent Java application.']\n",
      "['Scala', 'It', 'Java', 'Code', 'Java']\n",
      "4\n"
     ]
    }
   ],
   "source": [
    "# Enter your code here. Read input from STDIN. Print output to STDOUT\n",
    "import re\n",
    "\n",
    "\n",
    "PATTERN = \"[0-9A-Z]\"\n",
    "string1 = \"M3 is a company which provides medical-related services through the use of the Internet since 2000.\"\n",
    "string2 = \"M3 stands fir Medicine, Media and Metamorphosis.\"\n",
    "\n",
    "def main():\n",
    "    \"\"\" 入力された文字列の中に大文字または数字から始まる単語をカウント\n",
    "    \"\"\"\n",
    "    \n",
    "    list_input_string = []\n",
    "    list_input_string_append = list_input_string.append\n",
    "    \n",
    "    while True:\n",
    "        try:\n",
    "            a = input()\n",
    "            if not a:\n",
    "                break\n",
    "            list_input_string_append(a)\n",
    "        except EOFError:\n",
    "            break\n",
    "            \n",
    "    print(list_input_string)\n",
    "    \n",
    "    list_words = [y for x in list_input_string for y in x.split() if re.match(PATTERN, y[0])]\n",
    "    print(list_words)\n",
    "    print(len(set(list_words)))\n",
    "\n",
    "if __name__ == \"__main__\":\n",
    "    main()"
   ]
  }
 ],
 "metadata": {
  "kernelspec": {
   "display_name": "Python 3.9.12 ('base')",
   "language": "python",
   "name": "python3"
  },
  "language_info": {
   "codemirror_mode": {
    "name": "ipython",
    "version": 3
   },
   "file_extension": ".py",
   "mimetype": "text/x-python",
   "name": "python",
   "nbconvert_exporter": "python",
   "pygments_lexer": "ipython3",
   "version": "3.9.12"
  },
  "orig_nbformat": 4,
  "vscode": {
   "interpreter": {
    "hash": "c0471cdc6231a5210899e9481bea1aeaeb4a664db964fd9b20d11630d4529a39"
   }
  }
 },
 "nbformat": 4,
 "nbformat_minor": 2
}
