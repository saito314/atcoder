{
 "cells": [
  {
   "cell_type": "code",
   "execution_count": 4,
   "metadata": {},
   "outputs": [
    {
     "data": {
      "application/vnd.jupyter.widget-view+json": {
       "model_id": "8e9096e8185f4ed0ad10afe1beb6d52d",
       "version_major": 2,
       "version_minor": 0
      },
      "text/plain": [
       "Textarea(value='')"
      ]
     },
     "metadata": {},
     "output_type": "display_data"
    }
   ],
   "source": [
    "from ipywidgets import Textarea\n",
    "\n",
    "def get_input(change):\n",
    "    global Input\n",
    "    Input = change[\"new\"]\n",
    "\n",
    "textarea = Textarea()\n",
    "textarea.observe(get_input, names=\"value\")\n",
    "display(textarea)"
   ]
  },
  {
   "cell_type": "code",
   "execution_count": 32,
   "metadata": {},
   "outputs": [],
   "source": [
    "\"\"\" 上のテキストボックスにテストケースを入力したら実行 \"\"\"\n",
    "IN = iter(Input.split(\"\\n\")).__next__\n",
    "def input():\n",
    "    return IN()"
   ]
  },
  {
   "cell_type": "code",
   "execution_count": 6,
   "metadata": {},
   "outputs": [
    {
     "name": "stdout",
     "output_type": "stream",
     "text": [
      "999999999\n"
     ]
    }
   ],
   "source": [
    "\"\"\" A問題 \"\"\"\n",
    "n = int(input())\n",
    "\n",
    "ans = list()\n",
    "for i in range(n):\n",
    "    ans.append(str(n))\n",
    "\n",
    "print(\"\".join(ans))"
   ]
  },
  {
   "cell_type": "code",
   "execution_count": 19,
   "metadata": {},
   "outputs": [
    {
     "name": "stdout",
     "output_type": "stream",
     "text": [
      "Yes\n"
     ]
    }
   ],
   "source": [
    "\"\"\" B問題 \"\"\"\n",
    "import itertools\n",
    "\n",
    "P_dict = {\n",
    "    'AA': 0,\n",
    "    'AB': 1,\n",
    "    'AC': 2,\n",
    "    'AD': 2,\n",
    "    'AE': 1,\n",
    "    'BA': 1,\n",
    "    'BB': 0,\n",
    "    'BC': 1,\n",
    "    'BD': 2,\n",
    "    'BE': 2,\n",
    "    'CA': 2,\n",
    "    'CB': 1,\n",
    "    'CC': 0,\n",
    "    'CD': 1,\n",
    "    'CE': 2,\n",
    "    'DA': 2,\n",
    "    'DB': 2,\n",
    "    'DC': 1,\n",
    "    'DD': 0,\n",
    "    'DE': 1,\n",
    "    'EA': 1,\n",
    "    'EB': 2,\n",
    "    'EC': 2,\n",
    "    'ED': 1,\n",
    "    'EE': 0\n",
    "}\n",
    "\n",
    "S = input()\n",
    "T = input()\n",
    "\n",
    "if P_dict[S] == P_dict[T]:\n",
    "    print(\"Yes\")\n",
    "else:\n",
    "    print(\"No\")"
   ]
  },
  {
   "cell_type": "markdown",
   "metadata": {},
   "source": [
    "1:  111\n",
    "2:  112\n",
    "3:  122\n",
    "4:  222\n",
    "5:  113\n",
    "6:  123\n",
    "7:  223\n",
    "8:  133\n",
    "9:  233\n",
    "10: 333\n",
    "11: 114\n",
    "12: 124\n",
    "13: 224\n",
    "14: 134\n",
    "15: 234\n",
    "16: 334\n",
    "17: 144\n",
    "18: 244\n",
    "19: 344"
   ]
  },
  {
   "cell_type": "code",
   "execution_count": 36,
   "metadata": {},
   "outputs": [
    {
     "name": "stdout",
     "output_type": "stream",
     "text": [
      "(2, 10, 12)\n",
      "112222222233\n"
     ]
    }
   ],
   "source": [
    "\"\"\" C問題 \"\"\"\n",
    "IN = iter(Input.split(\"\\n\")).__next__\n",
    "def input():\n",
    "    return IN()\n",
    "\n",
    "a, b, c = (1, 1, 1)\n",
    "\n",
    "n = int(input())\n",
    "\n",
    "for i in range(n - 1):\n",
    "    \n",
    "    if a == b and b == c:\n",
    "        a = 1\n",
    "        b = 1\n",
    "        c += 1\n",
    "    elif a < b:\n",
    "        a += 1\n",
    "    elif b < c:\n",
    "        a = 1\n",
    "        b += 1\n",
    "    \n",
    "a = int(\"\".join([\"1\"] * a))\n",
    "b = int(\"\".join([\"1\"] * b))\n",
    "c = int(\"\".join([\"1\"] * c))\n",
    "\n",
    "print(a + b + c)"
   ]
  },
  {
   "cell_type": "code",
   "execution_count": null,
   "metadata": {},
   "outputs": [],
   "source": [
    "\"\"\" D問題 \"\"\""
   ]
  },
  {
   "cell_type": "code",
   "execution_count": null,
   "metadata": {},
   "outputs": [],
   "source": [
    "\"\"\" E問題 \"\"\""
   ]
  },
  {
   "cell_type": "code",
   "execution_count": null,
   "metadata": {},
   "outputs": [],
   "source": []
  },
  {
   "cell_type": "code",
   "execution_count": null,
   "metadata": {},
   "outputs": [],
   "source": [
    "\"\"\" F問題 \"\"\""
   ]
  },
  {
   "cell_type": "code",
   "execution_count": null,
   "metadata": {},
   "outputs": [],
   "source": [
    "\"\"\" G問題 \"\"\""
   ]
  },
  {
   "cell_type": "code",
   "execution_count": null,
   "metadata": {},
   "outputs": [],
   "source": [
    "\"\"\" H問題 \"\"\""
   ]
  }
 ],
 "metadata": {
  "kernelspec": {
   "display_name": "Python 3.9.12 ('base')",
   "language": "python",
   "name": "python3"
  },
  "language_info": {
   "codemirror_mode": {
    "name": "ipython",
    "version": 3
   },
   "file_extension": ".py",
   "mimetype": "text/x-python",
   "name": "python",
   "nbconvert_exporter": "python",
   "pygments_lexer": "ipython3",
   "version": "3.9.12"
  },
  "orig_nbformat": 4,
  "vscode": {
   "interpreter": {
    "hash": "c0471cdc6231a5210899e9481bea1aeaeb4a664db964fd9b20d11630d4529a39"
   }
  }
 },
 "nbformat": 4,
 "nbformat_minor": 2
}
