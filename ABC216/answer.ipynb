{
 "cells": [
  {
   "cell_type": "code",
   "execution_count": 3,
   "metadata": {},
   "outputs": [
    {
     "name": "stdout",
     "output_type": "stream",
     "text": [
      "12\n"
     ]
    }
   ],
   "source": [
    "\"\"\" A問題 \"\"\"\n",
    "x, y = map(int, input().split(\".\"))\n",
    "\n",
    "if 0 <= y <= 2:\n",
    "    print(str(x) + \"-\")\n",
    "elif 3 <= y <= 6:\n",
    "    print(str(x))\n",
    "else:\n",
    "    print(str(x) + \"+\")"
   ]
  },
  {
   "cell_type": "code",
   "execution_count": 7,
   "metadata": {},
   "outputs": [
    {
     "name": "stdout",
     "output_type": "stream",
     "text": [
      "No\n"
     ]
    }
   ],
   "source": [
    "\"\"\" B問題 \"\"\"\n",
    "# 人数\n",
    "n = int(input())\n",
    "\n",
    "nameList = []\n",
    "for i in range(n):\n",
    "    nameList.append(input())\n",
    "\n",
    "# 元の名前のリストの個数\n",
    "beforeLength = len(nameList)\n",
    "\n",
    "# 重複を消したリストの個数\n",
    "afterLength = len(set(nameList))\n",
    "\n",
    "if beforeLength != afterLength:\n",
    "    print(\"Yes\")\n",
    "else:\n",
    "    print(\"No\")"
   ]
  },
  {
   "cell_type": "code",
   "execution_count": null,
   "metadata": {},
   "outputs": [],
   "source": [
    "\"\"\" 上のテキストボックスにテストケースを入力したら実行 \"\"\"\n",
    "IN = iter(Input.split(\"\\n\")).__next__\n",
    "def input():\n",
    "    return IN()\n",
    "\n",
    "\"\"\" C問題 \"\"\"\n"
   ]
  },
  {
   "cell_type": "code",
   "execution_count": null,
   "metadata": {},
   "outputs": [],
   "source": [
    "\"\"\" 上のテキストボックスにテストケースを入力したら実行 \"\"\"\n",
    "IN = iter(Input.split(\"\\n\")).__next__\n",
    "def input():\n",
    "    return IN()\n",
    "\n",
    "\"\"\" D問題 \"\"\"\n"
   ]
  },
  {
   "cell_type": "code",
   "execution_count": null,
   "metadata": {},
   "outputs": [],
   "source": [
    "\"\"\" 上のテキストボックスにテストケースを入力したら実行 \"\"\"\n",
    "IN = iter(Input.split(\"\\n\")).__next__\n",
    "def input():\n",
    "    return IN()\n",
    "\n",
    "\"\"\" E問題 \"\"\"\n"
   ]
  },
  {
   "cell_type": "code",
   "execution_count": null,
   "metadata": {},
   "outputs": [],
   "source": [
    "\"\"\" 上のテキストボックスにテストケースを入力したら実行 \"\"\"\n",
    "IN = iter(Input.split(\"\\n\")).__next__\n",
    "def input():\n",
    "    return IN()\n",
    "\n",
    "\"\"\" F問題 \"\"\""
   ]
  },
  {
   "cell_type": "code",
   "execution_count": null,
   "metadata": {},
   "outputs": [],
   "source": [
    "\"\"\" 上のテキストボックスにテストケースを入力したら実行 \"\"\"\n",
    "IN = iter(Input.split(\"\\n\")).__next__\n",
    "def input():\n",
    "    return IN()\n",
    "\n",
    "\"\"\" G問題 \"\"\""
   ]
  },
  {
   "cell_type": "code",
   "execution_count": null,
   "metadata": {},
   "outputs": [],
   "source": [
    "\"\"\" 上のテキストボックスにテストケースを入力したら実行 \"\"\"\n",
    "IN = iter(Input.split(\"\\n\")).__next__\n",
    "def input():\n",
    "    return IN()\n",
    "\n",
    "\"\"\" H問題 \"\"\""
   ]
  }
 ],
 "metadata": {
  "kernelspec": {
   "display_name": "Python 3.9.12 ('base')",
   "language": "python",
   "name": "python3"
  },
  "language_info": {
   "codemirror_mode": {
    "name": "ipython",
    "version": 3
   },
   "file_extension": ".py",
   "mimetype": "text/x-python",
   "name": "python",
   "nbconvert_exporter": "python",
   "pygments_lexer": "ipython3",
   "version": "3.11.7"
  },
  "orig_nbformat": 4,
  "vscode": {
   "interpreter": {
    "hash": "c0471cdc6231a5210899e9481bea1aeaeb4a664db964fd9b20d11630d4529a39"
   }
  }
 },
 "nbformat": 4,
 "nbformat_minor": 2
}
