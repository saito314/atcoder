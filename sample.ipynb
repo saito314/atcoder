{
 "cells": [
  {
   "cell_type": "code",
   "execution_count": 1,
   "metadata": {},
   "outputs": [
    {
     "name": "stdout",
     "output_type": "stream",
     "text": [
      "a:1 b:2 c:3\n"
     ]
    }
   ],
   "source": [
    "\"\"\" 空白区切りで入力される連続した入力を各変数に入れる\n",
    "    例）入力：5 9 17\n",
    "\"\"\"\n",
    "a, b, c = map(int, input().split())\n",
    "print(f\"a:{a} b:{b} c:{c}\")"
   ]
  },
  {
   "cell_type": "code",
   "execution_count": 3,
   "metadata": {},
   "outputs": [
    {
     "name": "stdout",
     "output_type": "stream",
     "text": [
      "[[1, 2], [3, 4], [5, 6]]\n"
     ]
    }
   ],
   "source": [
    "\"\"\" 改行で区切られた連続した入力値を受け取る場合\n",
    "    例）\n",
    "    1 2\n",
    "    3 4\n",
    "    5 6\n",
    "\"\"\"\n",
    "a = []\n",
    "a_append = a.append\n",
    "while True:\n",
    "    try:\n",
    "        b = list(map(int, input().split()))\n",
    "        if not b:\n",
    "            break\n",
    "        a_append(b)\n",
    "    except EOFError:\n",
    "        break\n",
    "\n",
    "print(a)\n"
   ]
  },
  {
   "cell_type": "code",
   "execution_count": null,
   "metadata": {},
   "outputs": [],
   "source": [
    "\"\"\" アルファベット辞書 \"\"\"\n",
    "alphabet = {\n",
    "    1: \"a\",\n",
    "    2: \"b\",\n",
    "    3: \"c\",\n",
    "    4: \"d\",\n",
    "    5: \"e\",\n",
    "    6: \"f\",\n",
    "    7: \"g\",\n",
    "    8: \"h\",\n",
    "    9: \"i\",\n",
    "    10: \"j\",\n",
    "    11: \"k\",\n",
    "    12: \"l\",\n",
    "    13: \"m\",\n",
    "    14: \"n\",\n",
    "    15: \"o\",\n",
    "    16: \"p\",\n",
    "    17: \"q\",\n",
    "    18: \"r\",\n",
    "    19: \"s\",\n",
    "    20: \"t\",\n",
    "    21: \"u\",\n",
    "    22: \"v\",\n",
    "    23: \"w\",\n",
    "    24: \"x\",\n",
    "    25: \"y\",\n",
    "    26: \"z\"\n",
    "}"
   ]
  }
 ],
 "metadata": {
  "kernelspec": {
   "display_name": "Python 3",
   "language": "python",
   "name": "python3"
  },
  "language_info": {
   "codemirror_mode": {
    "name": "ipython",
    "version": 3
   },
   "file_extension": ".py",
   "mimetype": "text/x-python",
   "name": "python",
   "nbconvert_exporter": "python",
   "pygments_lexer": "ipython3",
   "version": "3.10.17"
  },
  "orig_nbformat": 4
 },
 "nbformat": 4,
 "nbformat_minor": 2
}
