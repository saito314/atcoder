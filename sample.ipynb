{
 "cells": [
  {
   "cell_type": "code",
   "execution_count": 2,
   "metadata": {},
   "outputs": [
    {
     "name": "stdout",
     "output_type": "stream",
     "text": [
      "a:5 b:9 c:17\n"
     ]
    }
   ],
   "source": [
    "\"\"\" 空白区切りで入力される連続した入力を各変数に入れる\n",
    "    例）入力：5 9 17\n",
    "\"\"\"\n",
    "a, b, c = map(int, input().split())\n",
    "print(f\"a:{a} b:{b} c:{c}\")"
   ]
  },
  {
   "cell_type": "code",
   "execution_count": 3,
   "metadata": {},
   "outputs": [
    {
     "name": "stdout",
     "output_type": "stream",
     "text": [
      "[[1, 2], [3, 4], [5, 6]]\n"
     ]
    }
   ],
   "source": [
    "\"\"\" 改行で区切られた連続した入力値を受け取る場合\n",
    "    例）\n",
    "    1 2\n",
    "    3 4\n",
    "    5 6\n",
    "\"\"\"\n",
    "a = []\n",
    "a_append = a.append\n",
    "while True:\n",
    "    try:\n",
    "        b = list(map(int, input().split()))\n",
    "        if not b:\n",
    "            break\n",
    "        a_append(b)\n",
    "    except EOFError:\n",
    "        break\n",
    "\n",
    "print(a)\n"
   ]
  }
 ],
 "metadata": {
  "kernelspec": {
   "display_name": "Python 3.9.12 ('base')",
   "language": "python",
   "name": "python3"
  },
  "language_info": {
   "codemirror_mode": {
    "name": "ipython",
    "version": 3
   },
   "file_extension": ".py",
   "mimetype": "text/x-python",
   "name": "python",
   "nbconvert_exporter": "python",
   "pygments_lexer": "ipython3",
   "version": "3.9.12"
  },
  "orig_nbformat": 4,
  "vscode": {
   "interpreter": {
    "hash": "c0471cdc6231a5210899e9481bea1aeaeb4a664db964fd9b20d11630d4529a39"
   }
  }
 },
 "nbformat": 4,
 "nbformat_minor": 2
}
