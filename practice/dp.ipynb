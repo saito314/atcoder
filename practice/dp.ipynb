{
 "cells": [
  {
   "cell_type": "markdown",
   "metadata": {},
   "source": [
    "### 問題\n",
    "あなたは複数種類のコインを持っています。各コインは無限に使用することができます。与えられた金額をコインで支払うために必要なコインの最小数を求めてください。\n",
    "\n",
    "### 入力\n",
    "coins：異なる額面を持つコインのリスト（例：[1, 2, 5]）\\\n",
    "amount：支払う必要がある金額（例：11）\n",
    "\n",
    "### 出力\n",
    "最小のコイン数を返します。指定された金額を作ることができない場合は -1 を返します。"
   ]
  },
  {
   "cell_type": "code",
   "execution_count": 1,
   "metadata": {},
   "outputs": [
    {
     "name": "stdout",
     "output_type": "stream",
     "text": [
      "[0, 1, inf, inf, inf, inf, inf, inf, inf, inf, inf, inf]\n",
      "[0, 1, 1, inf, inf, inf, inf, inf, inf, inf, inf, inf]\n",
      "[0, 1, 1, 2, inf, inf, inf, inf, inf, inf, inf, inf]\n",
      "[0, 1, 1, 2, 2, inf, inf, inf, inf, inf, inf, inf]\n",
      "[0, 1, 1, 2, 2, 1, inf, inf, inf, inf, inf, inf]\n",
      "[0, 1, 1, 2, 2, 1, 2, inf, inf, inf, inf, inf]\n",
      "[0, 1, 1, 2, 2, 1, 2, 2, inf, inf, inf, inf]\n",
      "[0, 1, 1, 2, 2, 1, 2, 2, 3, inf, inf, inf]\n",
      "[0, 1, 1, 2, 2, 1, 2, 2, 3, 3, inf, inf]\n",
      "[0, 1, 1, 2, 2, 1, 2, 2, 3, 3, 2, inf]\n",
      "[0, 1, 1, 2, 2, 1, 2, 2, 3, 3, 2, 3]\n",
      "3\n"
     ]
    }
   ],
   "source": [
    "def minCoins(coins, amount):\n",
    "    # dp[i] は金額 i を作るのに必要な最小コイン数\n",
    "    dp = [float('inf')] * (amount + 1)\n",
    "    # 0円の場合はコインは不要なので 0\n",
    "    dp[0] = 0\n",
    "    \n",
    "    # 1円から目的の金額まで計算\n",
    "    for i in range(1, amount + 1):\n",
    "        # 各コインで試す\n",
    "        for coin in coins:\n",
    "            if i - coin >= 0:\n",
    "                dp[i] = min(dp[i], dp[i - coin] + 1)\n",
    "        print(dp)\n",
    "    \n",
    "    # 最終的な解が求められない場合は -1 を返す\n",
    "    return dp[amount] if dp[amount] != float('inf') else -1\n",
    "\n",
    "# 使用例\n",
    "coins = [1, 2, 5]\n",
    "amount = 11\n",
    "print(minCoins(coins, amount))  # 3\n"
   ]
  }
 ],
 "metadata": {
  "kernelspec": {
   "display_name": "Python 3.9.12 ('base')",
   "language": "python",
   "name": "python3"
  },
  "language_info": {
   "codemirror_mode": {
    "name": "ipython",
    "version": 3
   },
   "file_extension": ".py",
   "mimetype": "text/x-python",
   "name": "python",
   "nbconvert_exporter": "python",
   "pygments_lexer": "ipython3",
   "version": "3.9.12"
  },
  "orig_nbformat": 4,
  "vscode": {
   "interpreter": {
    "hash": "c0471cdc6231a5210899e9481bea1aeaeb4a664db964fd9b20d11630d4529a39"
   }
  }
 },
 "nbformat": 4,
 "nbformat_minor": 2
}
