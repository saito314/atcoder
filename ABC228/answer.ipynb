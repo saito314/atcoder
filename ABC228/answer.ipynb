{
 "cells": [
  {
   "cell_type": "code",
   "execution_count": 4,
   "metadata": {},
   "outputs": [
    {
     "ename": "ValueError",
     "evalue": "not enough values to unpack (expected 3, got 0)",
     "output_type": "error",
     "traceback": [
      "\u001b[0;31m---------------------------------------------------------------------------\u001b[0m",
      "\u001b[0;31mValueError\u001b[0m                                Traceback (most recent call last)",
      "Cell \u001b[0;32mIn[4], line 2\u001b[0m\n\u001b[1;32m      1\u001b[0m \u001b[38;5;124;03m\"\"\" A問題 \"\"\"\u001b[39;00m\n\u001b[0;32m----> 2\u001b[0m S, T, X \u001b[38;5;241m=\u001b[39m \u001b[38;5;28mmap\u001b[39m(\u001b[38;5;28mint\u001b[39m, \u001b[38;5;28minput\u001b[39m()\u001b[38;5;241m.\u001b[39msplit())\n\u001b[1;32m      4\u001b[0m \u001b[38;5;28;01mif\u001b[39;00m S \u001b[38;5;241m<\u001b[39m T:\n\u001b[1;32m      5\u001b[0m     \u001b[38;5;28;01mif\u001b[39;00m S \u001b[38;5;241m<\u001b[39m\u001b[38;5;241m=\u001b[39m X \u001b[38;5;241m<\u001b[39m T:\n",
      "\u001b[0;31mValueError\u001b[0m: not enough values to unpack (expected 3, got 0)"
     ]
    }
   ],
   "source": [
    "\"\"\" A問題 \"\"\"\n",
    "S, T, X = map(int, input().split())\n",
    "\n",
    "if S < T:\n",
    "    if S <= X < T:\n",
    "        print(\"Yes\")\n",
    "    else:\n",
    "        print(\"No\")\n",
    "else:\n",
    "    if S <= X or X < T:\n",
    "        print(\"Yes\")\n",
    "    else:\n",
    "        print(\"No\")"
   ]
  },
  {
   "cell_type": "code",
   "execution_count": null,
   "metadata": {},
   "outputs": [
    {
     "name": "stdout",
     "output_type": "stream",
     "text": [
      "X:5\n",
      "[7, 11, 10, 1, 7, 20, 14, 2, 17, 3, 2, 0, 19, 20, 8, 14, 18, 2, 10, 10]\n",
      "X:7\n",
      "[7, 11, 10, 1, 0, 20, 14, 2, 17, 3, 2, 0, 19, 20, 8, 14, 18, 2, 10, 10]\n",
      "X:14\n",
      "[7, 11, 10, 1, 0, 20, 0, 2, 17, 3, 2, 0, 19, 20, 8, 14, 18, 2, 10, 10]\n",
      "X:20\n",
      "[7, 11, 10, 1, 0, 20, 0, 2, 17, 3, 2, 0, 19, 0, 8, 14, 18, 2, 10, 10]\n",
      "X:10\n",
      "[7, 11, 10, 1, 0, 20, 0, 2, 17, 3, 2, 0, 19, 0, 8, 14, 18, 2, 10, 0]\n",
      "X:3\n",
      "[7, 11, 10, 1, 0, 20, 0, 2, 17, 0, 2, 0, 19, 0, 8, 14, 18, 2, 10, 0]\n",
      "X:10\n",
      "[7, 11, 0, 1, 0, 20, 0, 2, 17, 0, 2, 0, 19, 0, 8, 14, 18, 2, 10, 0]\n",
      "7\n"
     ]
    }
   ],
   "source": [
    "\"\"\" B問題 \"\"\"\n",
    "N, X = map(int, input().split())\n",
    "\n",
    "A = list(map(int, input().split()))\n",
    "\n",
    "cnt = 0\n",
    "\n",
    "while True:\n",
    "\n",
    "    prev_X = X - 1\n",
    "    # 次に伝える人\n",
    "    X = A[prev_X]\n",
    "    # 秘密を知っている人は0\n",
    "    A[prev_X] = 0\n",
    "    cnt += 1\n",
    "\n",
    "    # 次の人がすでに秘密を知っていたら終了\n",
    "    if A[X - 1] == 0:\n",
    "        print(cnt)\n",
    "        break"
   ]
  },
  {
   "cell_type": "code",
   "execution_count": null,
   "metadata": {},
   "outputs": [
    {
     "name": "stdout",
     "output_type": "stream",
     "text": [
      "{0: 'Yes', 1: 'Yes', 2: 'No', 3: 'Yes'}\n",
      "Yes\n",
      "Yes\n",
      "No\n",
      "Yes\n"
     ]
    }
   ],
   "source": [
    "\"\"\" C問題 \"\"\"\n",
    "N, K = map(int, input().split())\n",
    "P = []\n",
    "\n",
    "for i in range(N):\n",
    "    P.append(sum(map(int, input().split())))\n",
    "\n",
    "P_sorted = sorted(P, reverse=True)\n",
    "K_value = P_sorted[K - 1]\n",
    "\n",
    "for i in range(N):\n",
    "    if P[i] + 300 >= K_value:\n",
    "        P[i] = \"Yes\"\n",
    "    else:\n",
    "        P[i] = \"No\"\n",
    "\n",
    "for value in P:\n",
    "    print(value)"
   ]
  },
  {
   "cell_type": "code",
   "execution_count": null,
   "metadata": {},
   "outputs": [],
   "source": [
    "\"\"\" D問題 \"\"\"\n"
   ]
  },
  {
   "cell_type": "code",
   "execution_count": null,
   "metadata": {},
   "outputs": [],
   "source": [
    "\"\"\" E問題 \"\"\"\n"
   ]
  },
  {
   "cell_type": "code",
   "execution_count": null,
   "metadata": {},
   "outputs": [],
   "source": [
    "\"\"\" F問題 \"\"\"\n"
   ]
  },
  {
   "cell_type": "code",
   "execution_count": null,
   "metadata": {},
   "outputs": [],
   "source": [
    "\"\"\" G問題 \"\"\"\n"
   ]
  },
  {
   "cell_type": "code",
   "execution_count": null,
   "metadata": {},
   "outputs": [],
   "source": [
    "\"\"\" H問題 \"\"\"\n"
   ]
  }
 ],
 "metadata": {
  "kernelspec": {
   "display_name": "Python 3",
   "language": "python",
   "name": "python3"
  },
  "language_info": {
   "codemirror_mode": {
    "name": "ipython",
    "version": 3
   },
   "file_extension": ".py",
   "mimetype": "text/x-python",
   "name": "python",
   "nbconvert_exporter": "python",
   "pygments_lexer": "ipython3",
   "version": "3.10.17"
  },
  "orig_nbformat": 4
 },
 "nbformat": 4,
 "nbformat_minor": 2
}
