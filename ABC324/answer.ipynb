{
 "cells": [
  {
   "cell_type": "code",
   "execution_count": 113,
   "metadata": {},
   "outputs": [
    {
     "data": {
      "application/vnd.jupyter.widget-view+json": {
       "model_id": "0ebe07a5195f4a9594b992ccbcb0b85e",
       "version_major": 2,
       "version_minor": 0
      },
      "text/plain": [
       "Textarea(value='')"
      ]
     },
     "metadata": {},
     "output_type": "display_data"
    }
   ],
   "source": [
    "from ipywidgets import Textarea\n",
    "\n",
    "def get_input(change):\n",
    "    global Input\n",
    "    Input = change[\"new\"]\n",
    "\n",
    "textarea = Textarea()\n",
    "textarea.observe(get_input, names=\"value\")\n",
    "display(textarea)"
   ]
  },
  {
   "cell_type": "code",
   "execution_count": 114,
   "metadata": {},
   "outputs": [],
   "source": [
    "\"\"\" 上のテキストボックスにテストケースを入力したら実行 \"\"\"\n",
    "IN = iter(Input.split(\"\\n\")).__next__\n",
    "def input():\n",
    "    return IN()"
   ]
  },
  {
   "cell_type": "code",
   "execution_count": 115,
   "metadata": {},
   "outputs": [
    {
     "ename": "ValueError",
     "evalue": "invalid literal for int() with base 10: '5 ababc'",
     "output_type": "error",
     "traceback": [
      "\u001b[1;31m---------------------------------------------------------------------------\u001b[0m",
      "\u001b[1;31mValueError\u001b[0m                                Traceback (most recent call last)",
      "\u001b[1;32mセル3 を c:\\Users\\KeitoSaito\\Desktop\\atCoder\\ABC324\\answer.ipynb\u001b[0m in \u001b[0;36m<cell line: 2>\u001b[1;34m()\u001b[0m\n\u001b[0;32m      <a href='vscode-notebook-cell:/c%3A/Users/KeitoSaito/Desktop/atCoder/ABC324/answer.ipynb#W2sZmlsZQ%3D%3D?line=0'>1</a>\u001b[0m \u001b[39m\"\"\" A問題 \"\"\"\u001b[39;00m\n\u001b[1;32m----> <a href='vscode-notebook-cell:/c%3A/Users/KeitoSaito/Desktop/atCoder/ABC324/answer.ipynb#W2sZmlsZQ%3D%3D?line=1'>2</a>\u001b[0m n \u001b[39m=\u001b[39m \u001b[39mint\u001b[39;49m(\u001b[39minput\u001b[39;49m())\n\u001b[0;32m      <a href='vscode-notebook-cell:/c%3A/Users/KeitoSaito/Desktop/atCoder/ABC324/answer.ipynb#W2sZmlsZQ%3D%3D?line=2'>3</a>\u001b[0m a \u001b[39m=\u001b[39m \u001b[39mlist\u001b[39m(\u001b[39mmap\u001b[39m(\u001b[39mint\u001b[39m, \u001b[39minput\u001b[39m()\u001b[39m.\u001b[39msplit()))\n\u001b[0;32m      <a href='vscode-notebook-cell:/c%3A/Users/KeitoSaito/Desktop/atCoder/ABC324/answer.ipynb#W2sZmlsZQ%3D%3D?line=4'>5</a>\u001b[0m \u001b[39mif\u001b[39;00m \u001b[39mlen\u001b[39m(\u001b[39mset\u001b[39m(a)) \u001b[39m==\u001b[39m \u001b[39m1\u001b[39m:\n",
      "\u001b[1;31mValueError\u001b[0m: invalid literal for int() with base 10: '5 ababc'"
     ]
    }
   ],
   "source": [
    "\"\"\" A問題 \"\"\"\n",
    "n = int(input())\n",
    "a = list(map(int, input().split()))\n",
    "\n",
    "if len(set(a)) == 1:\n",
    "    print(\"Yes\")\n",
    "else:\n",
    "    print(\"No\")"
   ]
  },
  {
   "cell_type": "code",
   "execution_count": null,
   "metadata": {},
   "outputs": [
    {
     "name": "stdout",
     "output_type": "stream",
     "text": [
      "Yes\n"
     ]
    }
   ],
   "source": [
    "\"\"\" B問題 \"\"\"\n",
    "n = int(input())\n",
    "\n",
    "while True:\n",
    "    if n == 1:\n",
    "        print(\"Yes\")\n",
    "        break\n",
    "    elif n % 2 == 0:\n",
    "        n = n / 2\n",
    "    elif n % 3 == 0:\n",
    "        n = n / 3\n",
    "    else:\n",
    "        print(\"No\")\n",
    "        break"
   ]
  },
  {
   "cell_type": "code",
   "execution_count": null,
   "metadata": {},
   "outputs": [],
   "source": [
    "\"\"\" C問題 最長共通部分列\"\"\"\n",
    "def lcs(m, n):\n",
    "    dp = [[0 for j in range(len(n)+1)] for i in range(len(m)+1)]\n",
    "\n",
    "    for i in range(len(m)):\n",
    "        for j in range(len(n)):\n",
    "            if m[i] == n[j]:\n",
    "                dp[i+1][j+1] = dp[i][j] + 1\n",
    "            elif dp[i][j+1] >= dp[i+1][j]:\n",
    "                dp[i+1][j+1] = dp[i][j+1]\n",
    "            else:\n",
    "                dp[i+1][j+1] = dp[i+1][j]\n",
    "        \n",
    "    return dp[-1][-1]"
   ]
  },
  {
   "cell_type": "code",
   "execution_count": 136,
   "metadata": {},
   "outputs": [
    {
     "name": "stdout",
     "output_type": "stream",
     "text": [
      "6\n",
      "1 2 4 7 8 9\n"
     ]
    }
   ],
   "source": [
    "\"\"\" C問題 \"\"\"\n",
    "IN = iter(Input.split(\"\\n\")).__next__\n",
    "def input():\n",
    "    return IN()\n",
    "\n",
    "k, t = input().split()\n",
    "k = int(k)\n",
    "s = []\n",
    "for i in range(k):\n",
    "    s.append(input())\n",
    "\n",
    "ans = []\n",
    "\n",
    "for index, i in enumerate(s):\n",
    "    if len(t)+1 < len(i) or len(t)-1 > len(i):\n",
    "        continue\n",
    "    lcs_len = lcs(t, i)\n",
    "    \n",
    "    if len({t, i}) == 1:\n",
    "        # 等しい場合\n",
    "        ans.append(str(index+1))\n",
    "    \n",
    "    elif (lcs_len == len(t)) and (len(i) == len(t)+1):\n",
    "        # 1つ文字列を挿入している\n",
    "        ans.append(str(index+1))\n",
    "\n",
    "    elif (lcs_len == len(t)-1) and (len(i) == len(t)-1):\n",
    "        # 1つ文字列を削除している\n",
    "        ans.append(str(index+1))\n",
    "    \n",
    "    elif len(i) == len(t):\n",
    "        # 1文字変更されている\n",
    "        i_1 = set([(index, a) for index, a in enumerate(i)])\n",
    "        t_1 = set([(index, a) for index, a in enumerate(t)])\n",
    "        if (len(i_1 & t_1) == len(t)-1) and (len(i) == len(t)):\n",
    "            ans.append(str(index+1))\n",
    "\n",
    "    else:\n",
    "        pass\n",
    "\n",
    "print(len(ans))\n",
    "print(\" \".join(ans))"
   ]
  },
  {
   "cell_type": "code",
   "execution_count": null,
   "metadata": {},
   "outputs": [],
   "source": [
    "\"\"\" D問題 \"\"\""
   ]
  },
  {
   "cell_type": "code",
   "execution_count": null,
   "metadata": {},
   "outputs": [],
   "source": [
    "\"\"\" E問題 \"\"\""
   ]
  },
  {
   "cell_type": "code",
   "execution_count": null,
   "metadata": {},
   "outputs": [],
   "source": []
  },
  {
   "cell_type": "code",
   "execution_count": null,
   "metadata": {},
   "outputs": [],
   "source": [
    "\"\"\" F問題 \"\"\""
   ]
  },
  {
   "cell_type": "code",
   "execution_count": null,
   "metadata": {},
   "outputs": [],
   "source": [
    "\"\"\" G問題 \"\"\""
   ]
  },
  {
   "cell_type": "code",
   "execution_count": null,
   "metadata": {},
   "outputs": [],
   "source": [
    "\"\"\" H問題 \"\"\""
   ]
  }
 ],
 "metadata": {
  "kernelspec": {
   "display_name": "Python 3.9.12 ('base')",
   "language": "python",
   "name": "python3"
  },
  "language_info": {
   "codemirror_mode": {
    "name": "ipython",
    "version": 3
   },
   "file_extension": ".py",
   "mimetype": "text/x-python",
   "name": "python",
   "nbconvert_exporter": "python",
   "pygments_lexer": "ipython3",
   "version": "3.9.12"
  },
  "orig_nbformat": 4,
  "vscode": {
   "interpreter": {
    "hash": "c0471cdc6231a5210899e9481bea1aeaeb4a664db964fd9b20d11630d4529a39"
   }
  }
 },
 "nbformat": 4,
 "nbformat_minor": 2
}
