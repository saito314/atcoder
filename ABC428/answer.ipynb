{
 "cells": [
  {
   "cell_type": "code",
   "execution_count": 20,
   "metadata": {},
   "outputs": [
    {
     "ename": "ValueError",
     "evalue": "not enough values to unpack (expected 4, got 2)",
     "output_type": "error",
     "traceback": [
      "\u001b[0;31m---------------------------------------------------------------------------\u001b[0m",
      "\u001b[0;31mValueError\u001b[0m                                Traceback (most recent call last)",
      "Cell \u001b[0;32mIn[20], line 2\u001b[0m\n\u001b[1;32m      1\u001b[0m \u001b[38;5;124;03m\"\"\" A問題 \"\"\"\u001b[39;00m\n\u001b[0;32m----> 2\u001b[0m S, A, B, X \u001b[38;5;241m=\u001b[39m \u001b[38;5;28mmap\u001b[39m(\u001b[38;5;28mint\u001b[39m, \u001b[38;5;28minput\u001b[39m()\u001b[38;5;241m.\u001b[39msplit())\n\u001b[1;32m      4\u001b[0m \u001b[38;5;66;03m# 高橋君が進む距離\u001b[39;00m\n\u001b[1;32m      5\u001b[0m a \u001b[38;5;241m=\u001b[39m S \u001b[38;5;241m*\u001b[39m A\n",
      "\u001b[0;31mValueError\u001b[0m: not enough values to unpack (expected 4, got 2)"
     ]
    }
   ],
   "source": [
    "\"\"\" A問題 \"\"\"\n",
    "S, A, B, X = map(int, input().split())\n",
    "\n",
    "# 高橋君が進む距離\n",
    "a = S * A\n",
    "\n",
    "ans = (X // (A + B)) * a\n",
    "# 残りの秒数\n",
    "n = X % (A + B)\n",
    "if n <= A:\n",
    "    ans += n * S\n",
    "else:\n",
    "    ans += a\n",
    "\n",
    "print(ans)"
   ]
  },
  {
   "cell_type": "code",
   "execution_count": null,
   "metadata": {},
   "outputs": [
    {
     "name": "stdout",
     "output_type": "stream",
     "text": [
      "{'the'} 2\n",
      "2\n",
      "the\n"
     ]
    }
   ],
   "source": [
    "\"\"\" B問題 \"\"\"\n",
    "N, K = map(int, input().split())\n",
    "S = input()\n",
    "\n",
    "cnt = 0\n",
    "ans = set()\n",
    "for i in range(N - K + 1):\n",
    "    sub = S[i:i+K]\n",
    "    sub_cnt = 0\n",
    "    for j in range(N - K + 1):\n",
    "        if sub == S[j:j+K]:\n",
    "            sub_cnt += 1\n",
    "    if sub_cnt > cnt:\n",
    "        ans.clear()\n",
    "        ans.add(sub)\n",
    "        cnt = sub_cnt\n",
    "    elif sub_cnt == cnt:\n",
    "        ans.add(sub)\n",
    "    else:\n",
    "        pass\n",
    "\n",
    "print(cnt)\n",
    "for s in sorted(ans):\n",
    "    print(s)"
   ]
  },
  {
   "cell_type": "code",
   "execution_count": null,
   "metadata": {},
   "outputs": [
    {
     "name": "stdout",
     "output_type": "stream",
     "text": [
      "No\n",
      "No\n",
      "No\n",
      "Yes\n",
      "No\n"
     ]
    }
   ],
   "source": [
    "\"\"\" C問題 \"\"\"\n",
    "from collections import deque\n",
    "\n",
    "Q = int(input())\n",
    "s = deque()\n",
    "history = deque()\n",
    "for _ in range(Q):\n",
    "    query = input()\n",
    "    if query[0] == '1':\n",
    "        L, R = query.split()\n",
    "        history.append(R)\n",
    "        if R == \"(\":\n",
    "            s.append(\"(\")\n",
    "        else:\n",
    "            if s and s[-1] == \"(\":\n",
    "                s.pop()\n",
    "            else:\n",
    "                s.append(\"bad\")\n",
    "    else:\n",
    "        c_last = history.pop()\n",
    "        if c_last == \"(\":\n",
    "            s.pop()\n",
    "        else:\n",
    "            if s and s[-1] == \"bad\":\n",
    "                s.pop()\n",
    "            else:\n",
    "                s.append(\"(\")\n",
    "\n",
    "    if s:\n",
    "        print(\"No\")\n",
    "    else:\n",
    "        print(\"Yes\")"
   ]
  },
  {
   "cell_type": "code",
   "execution_count": null,
   "metadata": {},
   "outputs": [],
   "source": [
    "\"\"\" D問題 \"\"\"\n"
   ]
  },
  {
   "cell_type": "code",
   "execution_count": null,
   "metadata": {},
   "outputs": [],
   "source": [
    "\"\"\" E問題 \"\"\"\n"
   ]
  },
  {
   "cell_type": "code",
   "execution_count": null,
   "metadata": {},
   "outputs": [],
   "source": [
    "\"\"\" F問題 \"\"\"\n"
   ]
  },
  {
   "cell_type": "code",
   "execution_count": null,
   "metadata": {},
   "outputs": [],
   "source": [
    "\"\"\" G問題 \"\"\"\n"
   ]
  },
  {
   "cell_type": "code",
   "execution_count": null,
   "metadata": {},
   "outputs": [],
   "source": [
    "\"\"\" H問題 \"\"\"\n"
   ]
  }
 ],
 "metadata": {
  "kernelspec": {
   "display_name": "Python 3",
   "language": "python",
   "name": "python3"
  },
  "language_info": {
   "codemirror_mode": {
    "name": "ipython",
    "version": 3
   },
   "file_extension": ".py",
   "mimetype": "text/x-python",
   "name": "python",
   "nbconvert_exporter": "python",
   "pygments_lexer": "ipython3",
   "version": "3.10.17"
  },
  "orig_nbformat": 4
 },
 "nbformat": 4,
 "nbformat_minor": 2
}
