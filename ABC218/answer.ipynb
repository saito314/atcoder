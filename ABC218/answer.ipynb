{
 "cells": [
  {
   "cell_type": "code",
   "execution_count": 3,
   "metadata": {},
   "outputs": [
    {
     "name": "stdout",
     "output_type": "stream",
     "text": [
      "Yes\n"
     ]
    }
   ],
   "source": [
    "\"\"\" A問題 \"\"\"\n",
    "n = int(input())\n",
    "s = input()\n",
    "\n",
    "if s[n-1] == \"o\":\n",
    "    print(\"Yes\")\n",
    "else:\n",
    "    print(\"No\")"
   ]
  },
  {
   "cell_type": "code",
   "execution_count": 6,
   "metadata": {},
   "outputs": [
    {
     "name": "stdout",
     "output_type": "stream",
     "text": [
      "eklpyqragjdwtcbxzsnifvhmou"
     ]
    }
   ],
   "source": [
    "\"\"\" B問題 \"\"\"\n",
    "alphabet = {\n",
    "    1: \"a\",\n",
    "    2: \"b\",\n",
    "    3: \"c\",\n",
    "    4: \"d\",\n",
    "    5: \"e\",\n",
    "    6: \"f\",\n",
    "    7: \"g\",\n",
    "    8: \"h\",\n",
    "    9: \"i\",\n",
    "    10: \"j\",\n",
    "    11: \"k\",\n",
    "    12: \"l\",\n",
    "    13: \"m\",\n",
    "    14: \"n\",\n",
    "    15: \"o\",\n",
    "    16: \"p\",\n",
    "    17: \"q\",\n",
    "    18: \"r\",\n",
    "    19: \"s\",\n",
    "    20: \"t\",\n",
    "    21: \"u\",\n",
    "    22: \"v\",\n",
    "    23: \"w\",\n",
    "    24: \"x\",\n",
    "    25: \"y\",\n",
    "    26: \"z\"\n",
    "}\n",
    "\n",
    "p = list(map(int, input().split()))\n",
    "\n",
    "for i in p:\n",
    "    print(alphabet[i], end=\"\")"
   ]
  },
  {
   "cell_type": "code",
   "execution_count": null,
   "metadata": {},
   "outputs": [],
   "source": [
    "\"\"\" C問題 \"\"\"\n"
   ]
  },
  {
   "cell_type": "code",
   "execution_count": null,
   "metadata": {},
   "outputs": [],
   "source": [
    "\"\"\" D問題 \"\"\"\n"
   ]
  },
  {
   "cell_type": "code",
   "execution_count": null,
   "metadata": {},
   "outputs": [],
   "source": [
    "\"\"\" E問題 \"\"\"\n"
   ]
  },
  {
   "cell_type": "code",
   "execution_count": null,
   "metadata": {},
   "outputs": [],
   "source": [
    "\"\"\" F問題 \"\"\"\n"
   ]
  },
  {
   "cell_type": "code",
   "execution_count": null,
   "metadata": {},
   "outputs": [],
   "source": [
    "\"\"\" G問題 \"\"\"\n"
   ]
  },
  {
   "cell_type": "code",
   "execution_count": null,
   "metadata": {},
   "outputs": [],
   "source": [
    "\"\"\" H問題 \"\"\"\n"
   ]
  }
 ],
 "metadata": {
  "kernelspec": {
   "display_name": "Python 3.9.12 ('base')",
   "language": "python",
   "name": "python3"
  },
  "language_info": {
   "codemirror_mode": {
    "name": "ipython",
    "version": 3
   },
   "file_extension": ".py",
   "mimetype": "text/x-python",
   "name": "python",
   "nbconvert_exporter": "python",
   "pygments_lexer": "ipython3",
   "version": "3.11.7"
  },
  "orig_nbformat": 4,
  "vscode": {
   "interpreter": {
    "hash": "c0471cdc6231a5210899e9481bea1aeaeb4a664db964fd9b20d11630d4529a39"
   }
  }
 },
 "nbformat": 4,
 "nbformat_minor": 2
}
