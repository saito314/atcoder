{
 "cells": [
  {
   "cell_type": "code",
   "execution_count": 4,
   "metadata": {},
   "outputs": [
    {
     "data": {
      "application/vnd.jupyter.widget-view+json": {
       "model_id": "061c5bc2bc8641dfbffd47be7a54e5fd",
       "version_major": 2,
       "version_minor": 0
      },
      "text/plain": [
       "Textarea(value='')"
      ]
     },
     "metadata": {},
     "output_type": "display_data"
    }
   ],
   "source": [
    "from ipywidgets import Textarea\n",
    "\n",
    "def get_input(change):\n",
    "    global Input\n",
    "    Input = change[\"new\"]\n",
    "\n",
    "textarea = Textarea()\n",
    "textarea.observe(get_input, names=\"value\")\n",
    "display(textarea)"
   ]
  },
  {
   "cell_type": "code",
   "execution_count": 8,
   "metadata": {},
   "outputs": [],
   "source": [
    "\"\"\" 上のテキストボックスにテストケースを入力したら実行 \"\"\"\n",
    "IN = iter(Input.split(\"\\n\")).__next__\n",
    "def input():\n",
    "    return IN()"
   ]
  },
  {
   "cell_type": "code",
   "execution_count": 6,
   "metadata": {},
   "outputs": [
    {
     "name": "stdout",
     "output_type": "stream",
     "text": [
      "hello2024\n"
     ]
    }
   ],
   "source": [
    "\"\"\" A問題 \"\"\"\n",
    "s = input()\n",
    "s = s[:-1] + \"4\"\n",
    "print(s)"
   ]
  },
  {
   "cell_type": "code",
   "execution_count": null,
   "metadata": {},
   "outputs": [],
   "source": [
    "IN = iter(Input.split(\"\\n\")).__next__\n",
    "def input():\n",
    "    return IN()\n",
    "\n",
    "\"\"\" B問題 \"\"\"\n",
    "N = int(input())\n",
    "\n",
    "for i in range(22):\n",
    "    for j in range(22):\n",
    "        for k in range(22):\n",
    "            if (i + j + k) <= N:\n",
    "                print(\"{0} {1} {2}\".format(i, j, k))"
   ]
  },
  {
   "cell_type": "code",
   "execution_count": 34,
   "metadata": {},
   "outputs": [
    {
     "name": "stdout",
     "output_type": "stream",
     "text": [
      "3 0\n",
      "2 0\n",
      "1 1\n",
      "1 0\n",
      "1 0\n",
      "track_x: [0, 1, 0, -1]\n",
      "track_y: [1, 0, -1, 0]\n"
     ]
    }
   ],
   "source": [
    "IN = iter(Input.split(\"\\n\")).__next__\n",
    "def input():\n",
    "    return IN()\n",
    "\n",
    "\"\"\" C問題 \"\"\"\n",
    "N, Q = map(int, input().split())\n",
    "track_x = []\n",
    "track_y = []\n",
    "\n",
    "for _ in range(Q):\n",
    "    a, b = input().split()\n",
    "    a = int(a)\n",
    "\n",
    "    track_x_app = track_x.append\n",
    "    track_y_app = track_y.append\n",
    "\n",
    "    if a == 1:\n",
    "        if b == \"R\":\n",
    "            track_x_app(1)\n",
    "            track_y_app(0)\n",
    "        elif b == \"L\":\n",
    "            track_x_app(-1)\n",
    "            track_y_app(0)\n",
    "        elif b == \"U\":\n",
    "            track_x_app(0)\n",
    "            track_y_app(1)\n",
    "        elif b == \"D\":\n",
    "            track_x_app(0)\n",
    "            track_y_app(-1)\n",
    "    \n",
    "    elif a == 2:\n",
    "        b = int(b)\n",
    "        if len(track_x) < b-1:\n",
    "            tmp = (b-1) - len(track_x)\n",
    "            print(f\"{sum(track_x[:-b+1])+1+tmp} {sum(track_y[:-b+1])}\")\n",
    "        else:\n",
    "            print(f\"{sum(track_x[:-b+1])+1} {sum(track_y[:-b+1])}\")\n"
   ]
  },
  {
   "cell_type": "code",
   "execution_count": null,
   "metadata": {},
   "outputs": [],
   "source": [
    "\"\"\" D問題 \"\"\""
   ]
  },
  {
   "cell_type": "code",
   "execution_count": null,
   "metadata": {},
   "outputs": [],
   "source": [
    "\"\"\" E問題 \"\"\""
   ]
  },
  {
   "cell_type": "code",
   "execution_count": null,
   "metadata": {},
   "outputs": [],
   "source": []
  },
  {
   "cell_type": "code",
   "execution_count": null,
   "metadata": {},
   "outputs": [],
   "source": [
    "\"\"\" F問題 \"\"\""
   ]
  },
  {
   "cell_type": "code",
   "execution_count": null,
   "metadata": {},
   "outputs": [],
   "source": [
    "\"\"\" G問題 \"\"\""
   ]
  },
  {
   "cell_type": "code",
   "execution_count": null,
   "metadata": {},
   "outputs": [],
   "source": [
    "\"\"\" H問題 \"\"\""
   ]
  }
 ],
 "metadata": {
  "kernelspec": {
   "display_name": "Python 3.9.12 ('base')",
   "language": "python",
   "name": "python3"
  },
  "language_info": {
   "codemirror_mode": {
    "name": "ipython",
    "version": 3
   },
   "file_extension": ".py",
   "mimetype": "text/x-python",
   "name": "python",
   "nbconvert_exporter": "python",
   "pygments_lexer": "ipython3",
   "version": "3.9.12"
  },
  "orig_nbformat": 4,
  "vscode": {
   "interpreter": {
    "hash": "c0471cdc6231a5210899e9481bea1aeaeb4a664db964fd9b20d11630d4529a39"
   }
  }
 },
 "nbformat": 4,
 "nbformat_minor": 2
}
